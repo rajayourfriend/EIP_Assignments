{
  "nbformat": 4,
  "nbformat_minor": 0,
  "metadata": {
    "colab": {
      "name": "EIP4_Assignment2_11_good.ipynb",
      "provenance": [],
      "collapsed_sections": [],
      "include_colab_link": true
    },
    "kernelspec": {
      "name": "python3",
      "display_name": "Python 3"
    },
    "accelerator": "GPU"
  },
  "cells": [
    {
      "cell_type": "markdown",
      "metadata": {
        "id": "view-in-github",
        "colab_type": "text"
      },
      "source": [
        "<a href=\"https://colab.research.google.com/github/rajayourfriend/EIP_Assignments/blob/master/EIP4_Assignment2_11_good.ipynb\" target=\"_parent\"><img src=\"https://colab.research.google.com/assets/colab-badge.svg\" alt=\"Open In Colab\"/></a>"
      ]
    },
    {
      "cell_type": "markdown",
      "metadata": {
        "id": "aNyZv-Ec52ot",
        "colab_type": "text"
      },
      "source": [
        "# **Import Libraries and modules**"
      ]
    },
    {
      "cell_type": "code",
      "metadata": {
        "id": "3m3w1Cw49Zkt",
        "colab_type": "code",
        "outputId": "00338d1e-d033-4b8d-92d8-c264fd773289",
        "colab": {
          "base_uri": "https://localhost:8080/",
          "height": 887
        }
      },
      "source": [
        "# https://keras.io/\n",
        "!pip install -q keras\n",
        "import keras\n",
        "import tensorflow as tf\n",
        "tf.test.gpu_device_name()\n",
        "\n",
        "\n",
        "#!yum -y install pciutils\n",
        "#!rpm -q pciutils\n",
        "!sudo apt-get install pciutils\n",
        "!lspci -vnn | grep VGA -A 12\n",
        "#glxinfo | grep OpenGL"
      ],
      "execution_count": 0,
      "outputs": [
        {
          "output_type": "stream",
          "text": [
            "Reading package lists... Done\n",
            "Building dependency tree       \n",
            "Reading state information... Done\n",
            "The following package was automatically installed and is no longer required:\n",
            "  libnvidia-common-430\n",
            "Use 'sudo apt autoremove' to remove it.\n",
            "The following additional packages will be installed:\n",
            "  libpci3\n",
            "The following NEW packages will be installed:\n",
            "  libpci3 pciutils\n",
            "0 upgraded, 2 newly installed, 0 to remove and 32 not upgraded.\n",
            "Need to get 281 kB of archives.\n",
            "After this operation, 1,430 kB of additional disk space will be used.\n",
            "Get:1 http://archive.ubuntu.com/ubuntu bionic-updates/main amd64 libpci3 amd64 1:3.5.2-1ubuntu1.1 [24.1 kB]\n",
            "Get:2 http://archive.ubuntu.com/ubuntu bionic-updates/main amd64 pciutils amd64 1:3.5.2-1ubuntu1.1 [257 kB]\n",
            "Fetched 281 kB in 0s (2,360 kB/s)\n",
            "debconf: unable to initialize frontend: Dialog\n",
            "debconf: (No usable dialog-like program is installed, so the dialog based frontend cannot be used. at /usr/share/perl5/Debconf/FrontEnd/Dialog.pm line 76, <> line 2.)\n",
            "debconf: falling back to frontend: Readline\n",
            "debconf: unable to initialize frontend: Readline\n",
            "debconf: (This frontend requires a controlling tty.)\n",
            "debconf: falling back to frontend: Teletype\n",
            "dpkg-preconfigure: unable to re-open stdin: \n",
            "Selecting previously unselected package libpci3:amd64.\n",
            "(Reading database ... 145605 files and directories currently installed.)\n",
            "Preparing to unpack .../libpci3_1%3a3.5.2-1ubuntu1.1_amd64.deb ...\n",
            "Unpacking libpci3:amd64 (1:3.5.2-1ubuntu1.1) ...\n",
            "Selecting previously unselected package pciutils.\n",
            "Preparing to unpack .../pciutils_1%3a3.5.2-1ubuntu1.1_amd64.deb ...\n",
            "Unpacking pciutils (1:3.5.2-1ubuntu1.1) ...\n",
            "Processing triggers for libc-bin (2.27-3ubuntu1) ...\n",
            "Processing triggers for man-db (2.8.3-2ubuntu0.1) ...\n",
            "Setting up libpci3:amd64 (1:3.5.2-1ubuntu1.1) ...\n",
            "Setting up pciutils (1:3.5.2-1ubuntu1.1) ...\n",
            "Processing triggers for libc-bin (2.27-3ubuntu1) ...\n",
            "lspci: Unable to load libkmod resources: error -12\n",
            "00:03.0 Non-VGA unclassified device [0000]: Red Hat, Inc. Virtio SCSI [1af4:1004]\n",
            "\tSubsystem: Red Hat, Inc. Virtio SCSI [1af4:0008]\n",
            "\tFlags: bus master, fast devsel, latency 0, IRQ 11\n",
            "\tI/O ports at c080 [size=64]\n",
            "\tMemory at fd000000 (32-bit, non-prefetchable) [size=128]\n",
            "\tCapabilities: [80] MSI-X: Enable+ Count=4 Masked-\n",
            "\tKernel driver in use: virtio-pci\n",
            "\n",
            "00:04.0 3D controller [0302]: NVIDIA Corporation GP100GL [Tesla P100 PCIe 16GB] [10de:15f8] (rev a1)\n",
            "\tSubsystem: NVIDIA Corporation GP100GL [Tesla P100 PCIe 16GB] [10de:118f]\n",
            "\tFlags: bus master, fast devsel, latency 0, IRQ 35\n",
            "\tMemory at fc000000 (32-bit, non-prefetchable) [size=16M]\n",
            "\tMemory at 400000000 (64-bit, prefetchable) [size=16G]\n"
          ],
          "name": "stdout"
        }
      ]
    },
    {
      "cell_type": "code",
      "metadata": {
        "id": "nDt0dFLpGm8O",
        "colab_type": "code",
        "outputId": "c798be4a-6fd0-4776-fe3b-05fd6066c6d6",
        "colab": {
          "base_uri": "https://localhost:8080/",
          "height": 817
        }
      },
      "source": [
        "!sudo apt-get install lshw\n",
        "!lshw -numeric -C display"
      ],
      "execution_count": 0,
      "outputs": [
        {
          "output_type": "stream",
          "text": [
            "\rReading package lists... 0%\r\rReading package lists... 0%\r\rReading package lists... 0%\r\rReading package lists... 7%\r\rReading package lists... 7%\r\rReading package lists... 7%\r\rReading package lists... 7%\r\rReading package lists... 66%\r\rReading package lists... 66%\r\rReading package lists... 67%\r\rReading package lists... 67%\r\rReading package lists... 73%\r\rReading package lists... 73%\r\rReading package lists... 73%\r\rReading package lists... 73%\r\rReading package lists... 79%\r\rReading package lists... 82%\r\rReading package lists... 82%\r\rReading package lists... 82%\r\rReading package lists... 82%\r\rReading package lists... 82%\r\rReading package lists... 82%\r\rReading package lists... 82%\r\rReading package lists... 82%\r\rReading package lists... 87%\r\rReading package lists... 87%\r\rReading package lists... 87%\r\rReading package lists... 87%\r\rReading package lists... 93%\r\rReading package lists... 93%\r\rReading package lists... 93%\r\rReading package lists... 93%\r\rReading package lists... 93%\r\rReading package lists... 93%\r\rReading package lists... 94%\r\rReading package lists... 94%\r\rReading package lists... 95%\r\rReading package lists... 95%\r\rReading package lists... 98%\r\rReading package lists... 98%\r\rReading package lists... 98%\r\rReading package lists... 98%\r\rReading package lists... Done\r\n",
            "\rBuilding dependency tree... 0%\r\rBuilding dependency tree... 0%\r\rBuilding dependency tree... 50%\r\rBuilding dependency tree... 50%\r\rBuilding dependency tree       \r\n",
            "\rReading state information... 0%\r\rReading state information... 0%\r\rReading state information... Done\r\n",
            "The following package was automatically installed and is no longer required:\n",
            "  libnvidia-common-430\n",
            "Use 'sudo apt autoremove' to remove it.\n",
            "The following additional packages will be installed:\n",
            "  usbutils\n",
            "The following NEW packages will be installed:\n",
            "  lshw usbutils\n",
            "0 upgraded, 2 newly installed, 0 to remove and 32 not upgraded.\n",
            "Need to get 439 kB of archives.\n",
            "After this operation, 1,441 kB of additional disk space will be used.\n",
            "\r0% [Working]\r            \rGet:1 http://archive.ubuntu.com/ubuntu bionic-updates/main amd64 lshw amd64 02.18-0.1ubuntu6.18.04.1 [231 kB]\n",
            "\r0% [1 lshw 0 B/231 kB 0%]\r                         \r52% [Working]\r             \rGet:2 http://archive.ubuntu.com/ubuntu bionic/main amd64 usbutils amd64 1:007-4build1 [208 kB]\n",
            "\r52% [2 usbutils 0 B/208 kB 0%]\r                              \r100% [Working]\r              \rFetched 439 kB in 0s (3,133 kB/s)\n",
            "debconf: unable to initialize frontend: Dialog\n",
            "debconf: (No usable dialog-like program is installed, so the dialog based frontend cannot be used. at /usr/share/perl5/Debconf/FrontEnd/Dialog.pm line 76, <> line 2.)\n",
            "debconf: falling back to frontend: Readline\n",
            "debconf: unable to initialize frontend: Readline\n",
            "debconf: (This frontend requires a controlling tty.)\n",
            "debconf: falling back to frontend: Teletype\n",
            "dpkg-preconfigure: unable to re-open stdin: \n",
            "Selecting previously unselected package lshw.\n",
            "(Reading database ... 145627 files and directories currently installed.)\n",
            "Preparing to unpack .../lshw_02.18-0.1ubuntu6.18.04.1_amd64.deb ...\n",
            "Unpacking lshw (02.18-0.1ubuntu6.18.04.1) ...\n",
            "Selecting previously unselected package usbutils.\n",
            "Preparing to unpack .../usbutils_1%3a007-4build1_amd64.deb ...\n",
            "Unpacking usbutils (1:007-4build1) ...\n",
            "Setting up lshw (02.18-0.1ubuntu6.18.04.1) ...\n",
            "Setting up usbutils (1:007-4build1) ...\n",
            "Processing triggers for man-db (2.8.3-2ubuntu0.1) ...\n",
            "  *-display\n",
            "       description: 3D controller\n",
            "       product: GP100GL [Tesla P100 PCIe 16GB] [10DE:15F8]\n",
            "       vendor: NVIDIA Corporation [10DE]\n",
            "       physical id: 4\n",
            "       bus info: pci@0000:00:04.0\n",
            "       version: a1\n",
            "       width: 64 bits\n",
            "       clock: 33MHz\n",
            "       capabilities: msi pm bus_master cap_list\n",
            "       configuration: driver=nvidia latency=0\n",
            "       resources: iomemory:40-3f iomemory:80-7f irq:35 memory:fc000000-fcffffff memory:400000000-7ffffffff memory:800000000-801ffffff ioport:c000(size=128)\n"
          ],
          "name": "stdout"
        }
      ]
    },
    {
      "cell_type": "code",
      "metadata": {
        "id": "Eso6UHE080D4",
        "colab_type": "code",
        "colab": {}
      },
      "source": [
        "import numpy as np\n",
        "\n",
        "from keras.models import Sequential\n",
        "from keras.layers import Dense, Dropout, Activation, Flatten, Add\n",
        "from keras.layers import Convolution2D, MaxPooling2D, BatchNormalization, GlobalAveragePooling2D\n",
        "from keras.utils import np_utils\n",
        "\n",
        "from keras.datasets import mnist"
      ],
      "execution_count": 0,
      "outputs": []
    },
    {
      "cell_type": "markdown",
      "metadata": {
        "id": "zByEi95J86RD",
        "colab_type": "text"
      },
      "source": [
        "### Load pre-shuffled MNIST data into train and test sets"
      ]
    },
    {
      "cell_type": "code",
      "metadata": {
        "id": "7eRM0QWN83PV",
        "colab_type": "code",
        "outputId": "0b78d7da-57ba-4e91-c88f-35d1c0113f26",
        "colab": {
          "base_uri": "https://localhost:8080/",
          "height": 52
        }
      },
      "source": [
        "(X_train, y_train), (X_test, y_test) = mnist.load_data()"
      ],
      "execution_count": 0,
      "outputs": [
        {
          "output_type": "stream",
          "text": [
            "Downloading data from https://s3.amazonaws.com/img-datasets/mnist.npz\n",
            "11493376/11490434 [==============================] - 1s 0us/step\n"
          ],
          "name": "stdout"
        }
      ]
    },
    {
      "cell_type": "code",
      "metadata": {
        "id": "4a4Be72j8-ZC",
        "colab_type": "code",
        "outputId": "dec4e6f4-5a96-4aed-d939-5f791f3fbfa3",
        "colab": {
          "base_uri": "https://localhost:8080/",
          "height": 300
        }
      },
      "source": [
        "print (X_train.shape)\n",
        "from matplotlib import pyplot as plt\n",
        "%matplotlib inline\n",
        "plt.imshow(X_train[0])"
      ],
      "execution_count": 0,
      "outputs": [
        {
          "output_type": "stream",
          "text": [
            "(60000, 28, 28)\n"
          ],
          "name": "stdout"
        },
        {
          "output_type": "execute_result",
          "data": {
            "text/plain": [
              "<matplotlib.image.AxesImage at 0x7f7c224a3fd0>"
            ]
          },
          "metadata": {
            "tags": []
          },
          "execution_count": 22
        },
        {
          "output_type": "display_data",
          "data": {
            "image/png": "[encoded data removed]",
            "text/plain": [
              "<Figure size 432x288 with 1 Axes>"
            ]
          },
          "metadata": {
            "tags": []
          }
        }
      ]
    },
    {
      "cell_type": "code",
      "metadata": {
        "id": "dkmprriw9AnZ",
        "colab_type": "code",
        "colab": {}
      },
      "source": [
        "X_train = X_train.reshape(X_train.shape[0], 28, 28,1)\n",
        "X_test = X_test.reshape(X_test.shape[0], 28, 28,1)"
      ],
      "execution_count": 0,
      "outputs": []
    },
    {
      "cell_type": "code",
      "metadata": {
        "id": "X2m4YS4E9CRh",
        "colab_type": "code",
        "colab": {}
      },
      "source": [
        "X_train = X_train.astype('float32')\n",
        "X_test = X_test.astype('float32')\n",
        "X_train /= 255\n",
        "X_test /= 255"
      ],
      "execution_count": 0,
      "outputs": []
    },
    {
      "cell_type": "code",
      "metadata": {
        "id": "0Mn0vAYD9DvB",
        "colab_type": "code",
        "outputId": "8f153030-95a3-4219-b968-46ce2ca69b8b",
        "colab": {
          "base_uri": "https://localhost:8080/",
          "height": 34
        }
      },
      "source": [
        "y_train[:10]"
      ],
      "execution_count": 0,
      "outputs": [
        {
          "output_type": "execute_result",
          "data": {
            "text/plain": [
              "array([5, 0, 4, 1, 9, 2, 1, 3, 1, 4], dtype=uint8)"
            ]
          },
          "metadata": {
            "tags": []
          },
          "execution_count": 25
        }
      ]
    },
    {
      "cell_type": "code",
      "metadata": {
        "id": "ZG8JiXR39FHC",
        "colab_type": "code",
        "colab": {}
      },
      "source": [
        "# Convert 1-dimensional class arrays to 10-dimensional class matrices\n",
        "Y_train = np_utils.to_categorical(y_train, 10)\n",
        "Y_test = np_utils.to_categorical(y_test, 10)"
      ],
      "execution_count": 0,
      "outputs": []
    },
    {
      "cell_type": "code",
      "metadata": {
        "id": "fYlFRvKS9HMB",
        "colab_type": "code",
        "outputId": "03fa271d-1308-40ad-f125-fa627574c143",
        "colab": {
          "base_uri": "https://localhost:8080/",
          "height": 193
        }
      },
      "source": [
        "Y_train[:10]\n"
      ],
      "execution_count": 0,
      "outputs": [
        {
          "output_type": "execute_result",
          "data": {
            "text/plain": [
              "array([[0., 0., 0., 0., 0., 1., 0., 0., 0., 0.],\n",
              "       [1., 0., 0., 0., 0., 0., 0., 0., 0., 0.],\n",
              "       [0., 0., 0., 0., 1., 0., 0., 0., 0., 0.],\n",
              "       [0., 1., 0., 0., 0., 0., 0., 0., 0., 0.],\n",
              "       [0., 0., 0., 0., 0., 0., 0., 0., 0., 1.],\n",
              "       [0., 0., 1., 0., 0., 0., 0., 0., 0., 0.],\n",
              "       [0., 1., 0., 0., 0., 0., 0., 0., 0., 0.],\n",
              "       [0., 0., 0., 1., 0., 0., 0., 0., 0., 0.],\n",
              "       [0., 1., 0., 0., 0., 0., 0., 0., 0., 0.],\n",
              "       [0., 0., 0., 0., 1., 0., 0., 0., 0., 0.]], dtype=float32)"
            ]
          },
          "metadata": {
            "tags": []
          },
          "execution_count": 27
        }
      ]
    },
    {
      "cell_type": "code",
      "metadata": {
        "id": "osKqT73Q9JJB",
        "colab_type": "code",
        "outputId": "14321ec8-1a5e-4cee-e7f0-c2a9391466ab",
        "colab": {
          "base_uri": "https://localhost:8080/",
          "height": 511
        }
      },
      "source": [
        "from keras.layers import Activation\n",
        "model = Sequential()\n",
        "\n",
        "\n",
        "model.add(Convolution2D(filters=10, kernel_size=(3, 3), activation='relu', use_bias=False, padding='same', input_shape=(28,28,1))) #RF=3\n",
        "model.add(BatchNormalization())\n",
        "model.add(Dropout(0.1))\n",
        "model.add(Convolution2D(10, 3, activation='relu', use_bias=False, padding='same'))#RF=5\n",
        "model.add(BatchNormalization())\n",
        "model.add(Dropout(0.1))\n",
        "model.add(Convolution2D(10, 3, activation='relu', use_bias=False, padding='same'))#RF=7\n",
        "model.add(BatchNormalization())\n",
        "model.add(Dropout(0.1))\n",
        "model.add(Convolution2D(16, 3, activation='relu', use_bias=False, padding='same'))#RF=9\n",
        "model.add(BatchNormalization())\n",
        "model.add(Dropout(0.1))\n",
        "model.add(Convolution2D(32, 3, activation='relu', use_bias=False, padding='same'))#RF=11\n",
        "model.add(BatchNormalization())\n",
        "model.add(Dropout(0.1))\n",
        "\n",
        "model.add(MaxPooling2D(2, 2))#RF=22\n",
        "model.add(Convolution2D(10, 1, activation='relu'))#RF=22\n",
        "\n",
        "model.add(Convolution2D(10, 3, activation='relu', use_bias=False))#RF=24\n",
        "model.add(BatchNormalization())\n",
        "model.add(Dropout(0.01))\n",
        "model.add(Convolution2D(10, 3, activation='relu', use_bias=False))#RF=26\n",
        "model.add(BatchNormalization())\n",
        "model.add(Dropout(0.01))\n",
        "model.add(Convolution2D(10, 3, activation='relu', use_bias=False))#RF=28\n",
        "model.add(BatchNormalization())\n",
        "model.add(Dropout(0.01))\n",
        "model.add(Convolution2D(16, 3, activation='relu', use_bias=False))#RF=30\n",
        "model.add(BatchNormalization())\n",
        "model.add(Dropout(0.01))\n",
        "model.add(Convolution2D(32, 3, activation='relu', use_bias=False))#RF=32\n",
        "model.add(BatchNormalization())\n",
        "model.add(Dropout(0.01))\n",
        "model.add(Convolution2D(10, 4, use_bias=False))#RF=36\n",
        "model.add(BatchNormalization())\n",
        "\n",
        "\n",
        "model.add(GlobalAveragePooling2D())\n",
        "model.add(Activation('softmax'))\n",
        "\n"
      ],
      "execution_count": 0,
      "outputs": [
        {
          "output_type": "stream",
          "text": [
            "WARNING:tensorflow:From /usr/local/lib/python3.6/dist-packages/keras/backend/tensorflow_backend.py:66: The name tf.get_default_graph is deprecated. Please use tf.compat.v1.get_default_graph instead.\n",
            "\n",
            "WARNING:tensorflow:From /usr/local/lib/python3.6/dist-packages/keras/backend/tensorflow_backend.py:541: The name tf.placeholder is deprecated. Please use tf.compat.v1.placeholder instead.\n",
            "\n",
            "WARNING:tensorflow:From /usr/local/lib/python3.6/dist-packages/keras/backend/tensorflow_backend.py:4432: The name tf.random_uniform is deprecated. Please use tf.random.uniform instead.\n",
            "\n",
            "WARNING:tensorflow:From /usr/local/lib/python3.6/dist-packages/keras/backend/tensorflow_backend.py:190: The name tf.get_default_session is deprecated. Please use tf.compat.v1.get_default_session instead.\n",
            "\n",
            "WARNING:tensorflow:From /usr/local/lib/python3.6/dist-packages/keras/backend/tensorflow_backend.py:197: The name tf.ConfigProto is deprecated. Please use tf.compat.v1.ConfigProto instead.\n",
            "\n",
            "WARNING:tensorflow:From /usr/local/lib/python3.6/dist-packages/keras/backend/tensorflow_backend.py:203: The name tf.Session is deprecated. Please use tf.compat.v1.Session instead.\n",
            "\n",
            "WARNING:tensorflow:From /usr/local/lib/python3.6/dist-packages/keras/backend/tensorflow_backend.py:207: The name tf.global_variables is deprecated. Please use tf.compat.v1.global_variables instead.\n",
            "\n",
            "WARNING:tensorflow:From /usr/local/lib/python3.6/dist-packages/keras/backend/tensorflow_backend.py:216: The name tf.is_variable_initialized is deprecated. Please use tf.compat.v1.is_variable_initialized instead.\n",
            "\n",
            "WARNING:tensorflow:From /usr/local/lib/python3.6/dist-packages/keras/backend/tensorflow_backend.py:223: The name tf.variables_initializer is deprecated. Please use tf.compat.v1.variables_initializer instead.\n",
            "\n",
            "WARNING:tensorflow:From /usr/local/lib/python3.6/dist-packages/keras/backend/tensorflow_backend.py:2041: The name tf.nn.fused_batch_norm is deprecated. Please use tf.compat.v1.nn.fused_batch_norm instead.\n",
            "\n",
            "WARNING:tensorflow:From /usr/local/lib/python3.6/dist-packages/keras/backend/tensorflow_backend.py:148: The name tf.placeholder_with_default is deprecated. Please use tf.compat.v1.placeholder_with_default instead.\n",
            "\n",
            "WARNING:tensorflow:From /usr/local/lib/python3.6/dist-packages/keras/backend/tensorflow_backend.py:3733: calling dropout (from tensorflow.python.ops.nn_ops) with keep_prob is deprecated and will be removed in a future version.\n",
            "Instructions for updating:\n",
            "Please use `rate` instead of `keep_prob`. Rate should be set to `rate = 1 - keep_prob`.\n",
            "WARNING:tensorflow:From /usr/local/lib/python3.6/dist-packages/keras/backend/tensorflow_backend.py:4267: The name tf.nn.max_pool is deprecated. Please use tf.nn.max_pool2d instead.\n",
            "\n"
          ],
          "name": "stdout"
        }
      ]
    },
    {
      "cell_type": "code",
      "metadata": {
        "id": "TzdAYg1k9K7Z",
        "colab_type": "code",
        "outputId": "b8208de3-c7ae-43fe-c8a0-14f2e81c4154",
        "colab": {
          "base_uri": "https://localhost:8080/",
          "height": 1000
        }
      },
      "source": [
        "model.summary()"
      ],
      "execution_count": 0,
      "outputs": [
        {
          "output_type": "stream",
          "text": [
            "Model: \"sequential_1\"\n",
            "_________________________________________________________________\n",
            "Layer (type)                 Output Shape              Param #   \n",
            "=================================================================\n",
            "conv2d_1 (Conv2D)            (None, 28, 28, 10)        90        \n",
            "_________________________________________________________________\n",
            "batch_normalization_1 (Batch (None, 28, 28, 10)        40        \n",
            "_________________________________________________________________\n",
            "dropout_1 (Dropout)          (None, 28, 28, 10)        0         \n",
            "_________________________________________________________________\n",
            "conv2d_2 (Conv2D)            (None, 28, 28, 10)        900       \n",
            "_________________________________________________________________\n",
            "batch_normalization_2 (Batch (None, 28, 28, 10)        40        \n",
            "_________________________________________________________________\n",
            "dropout_2 (Dropout)          (None, 28, 28, 10)        0         \n",
            "_________________________________________________________________\n",
            "conv2d_3 (Conv2D)            (None, 28, 28, 10)        900       \n",
            "_________________________________________________________________\n",
            "batch_normalization_3 (Batch (None, 28, 28, 10)        40        \n",
            "_________________________________________________________________\n",
            "dropout_3 (Dropout)          (None, 28, 28, 10)        0         \n",
            "_________________________________________________________________\n",
            "conv2d_4 (Conv2D)            (None, 28, 28, 16)        1440      \n",
            "_________________________________________________________________\n",
            "batch_normalization_4 (Batch (None, 28, 28, 16)        64        \n",
            "_________________________________________________________________\n",
            "dropout_4 (Dropout)          (None, 28, 28, 16)        0         \n",
            "_________________________________________________________________\n",
            "conv2d_5 (Conv2D)            (None, 28, 28, 32)        4608      \n",
            "_________________________________________________________________\n",
            "batch_normalization_5 (Batch (None, 28, 28, 32)        128       \n",
            "_________________________________________________________________\n",
            "dropout_5 (Dropout)          (None, 28, 28, 32)        0         \n",
            "_________________________________________________________________\n",
            "max_pooling2d_1 (MaxPooling2 (None, 14, 14, 32)        0         \n",
            "_________________________________________________________________\n",
            "conv2d_6 (Conv2D)            (None, 14, 14, 10)        330       \n",
            "_________________________________________________________________\n",
            "conv2d_7 (Conv2D)            (None, 12, 12, 10)        900       \n",
            "_________________________________________________________________\n",
            "batch_normalization_6 (Batch (None, 12, 12, 10)        40        \n",
            "_________________________________________________________________\n",
            "dropout_6 (Dropout)          (None, 12, 12, 10)        0         \n",
            "_________________________________________________________________\n",
            "conv2d_8 (Conv2D)            (None, 10, 10, 10)        900       \n",
            "_________________________________________________________________\n",
            "batch_normalization_7 (Batch (None, 10, 10, 10)        40        \n",
            "_________________________________________________________________\n",
            "dropout_7 (Dropout)          (None, 10, 10, 10)        0         \n",
            "_________________________________________________________________\n",
            "conv2d_9 (Conv2D)            (None, 8, 8, 10)          900       \n",
            "_________________________________________________________________\n",
            "batch_normalization_8 (Batch (None, 8, 8, 10)          40        \n",
            "_________________________________________________________________\n",
            "dropout_8 (Dropout)          (None, 8, 8, 10)          0         \n",
            "_________________________________________________________________\n",
            "conv2d_10 (Conv2D)           (None, 6, 6, 16)          1440      \n",
            "_________________________________________________________________\n",
            "batch_normalization_9 (Batch (None, 6, 6, 16)          64        \n",
            "_________________________________________________________________\n",
            "dropout_9 (Dropout)          (None, 6, 6, 16)          0         \n",
            "_________________________________________________________________\n",
            "conv2d_11 (Conv2D)           (None, 4, 4, 32)          4608      \n",
            "_________________________________________________________________\n",
            "batch_normalization_10 (Batc (None, 4, 4, 32)          128       \n",
            "_________________________________________________________________\n",
            "dropout_10 (Dropout)         (None, 4, 4, 32)          0         \n",
            "_________________________________________________________________\n",
            "conv2d_12 (Conv2D)           (None, 1, 1, 10)          5120      \n",
            "_________________________________________________________________\n",
            "batch_normalization_11 (Batc (None, 1, 1, 10)          40        \n",
            "_________________________________________________________________\n",
            "global_average_pooling2d_1 ( (None, 10)                0         \n",
            "_________________________________________________________________\n",
            "activation_1 (Activation)    (None, 10)                0         \n",
            "=================================================================\n",
            "Total params: 22,800\n",
            "Trainable params: 22,468\n",
            "Non-trainable params: 332\n",
            "_________________________________________________________________\n"
          ],
          "name": "stdout"
        }
      ]
    },
    {
      "cell_type": "code",
      "metadata": {
        "id": "Zp6SuGrL9M3h",
        "colab_type": "code",
        "outputId": "a9e086ad-ef15-4d04-ecd0-43d27c78c154",
        "colab": {
          "base_uri": "https://localhost:8080/",
          "height": 107
        }
      },
      "source": [
        "model.compile(loss='categorical_crossentropy',\n",
        "             optimizer='adam',\n",
        "             metrics=['accuracy'])"
      ],
      "execution_count": 0,
      "outputs": [
        {
          "output_type": "stream",
          "text": [
            "WARNING:tensorflow:From /usr/local/lib/python3.6/dist-packages/keras/optimizers.py:793: The name tf.train.Optimizer is deprecated. Please use tf.compat.v1.train.Optimizer instead.\n",
            "\n",
            "WARNING:tensorflow:From /usr/local/lib/python3.6/dist-packages/keras/backend/tensorflow_backend.py:3576: The name tf.log is deprecated. Please use tf.math.log instead.\n",
            "\n"
          ],
          "name": "stdout"
        }
      ]
    },
    {
      "cell_type": "code",
      "metadata": {
        "id": "4xWoKhPY9Of5",
        "colab_type": "code",
        "outputId": "3f4dc427-6535-4bf2-d065-ad28ded3c03c",
        "colab": {
          "base_uri": "https://localhost:8080/",
          "height": 1000
        }
      },
      "source": [
        "\n",
        "lr_scheduler = keras.callbacks.ReduceLROnPlateau(factor=np.sqrt(0.1),\n",
        "                               cooldown=0,\n",
        "                               patience=5,\n",
        "                               min_lr=0.5e-6)\n",
        "snapshot_filepath = \"/opt/saved_weight_file.hdf5\"\n",
        "cp_callback = keras.callbacks.ModelCheckpoint(snapshot_filepath, monitor='val_acc', verbose=1, save_best_only=True, mode='max')\n",
        "CALLBACKS = [cp_callback, lr_scheduler]\n",
        "\n",
        "model.fit(X_train, Y_train, batch_size=32, nb_epoch=20, verbose=1, validation_data=(X_test, Y_test), callbacks = CALLBACKS)\n"
      ],
      "execution_count": 0,
      "outputs": [
        {
          "output_type": "stream",
          "text": [
            "WARNING:tensorflow:From /usr/local/lib/python3.6/dist-packages/tensorflow_core/python/ops/math_grad.py:1424: where (from tensorflow.python.ops.array_ops) is deprecated and will be removed in a future version.\n",
            "Instructions for updating:\n",
            "Use tf.where in 2.0, which has the same broadcast rule as np.where\n"
          ],
          "name": "stdout"
        },
        {
          "output_type": "stream",
          "text": [
            "/usr/local/lib/python3.6/dist-packages/ipykernel_launcher.py:10: UserWarning: The `nb_epoch` argument in `fit` has been renamed `epochs`.\n",
            "  # Remove the CWD from sys.path while we load stuff.\n"
          ],
          "name": "stderr"
        },
        {
          "output_type": "stream",
          "text": [
            "WARNING:tensorflow:From /usr/local/lib/python3.6/dist-packages/keras/backend/tensorflow_backend.py:1033: The name tf.assign_add is deprecated. Please use tf.compat.v1.assign_add instead.\n",
            "\n",
            "WARNING:tensorflow:From /usr/local/lib/python3.6/dist-packages/keras/backend/tensorflow_backend.py:1020: The name tf.assign is deprecated. Please use tf.compat.v1.assign instead.\n",
            "\n",
            "Train on 60000 samples, validate on 10000 samples\n",
            "Epoch 1/20\n",
            "60000/60000 [==============================] - 37s 617us/step - loss: 0.4302 - acc: 0.9120 - val_loss: 0.1022 - val_acc: 0.9820\n",
            "\n",
            "Epoch 00001: val_acc improved from -inf to 0.98200, saving model to /opt/saved_weight_file.hdf5\n",
            "Epoch 2/20\n",
            "60000/60000 [==============================] - 31s 520us/step - loss: 0.1485 - acc: 0.9694 - val_loss: 0.0648 - val_acc: 0.9867\n",
            "\n",
            "Epoch 00002: val_acc improved from 0.98200 to 0.98670, saving model to /opt/saved_weight_file.hdf5\n",
            "Epoch 3/20\n",
            "60000/60000 [==============================] - 31s 520us/step - loss: 0.0949 - acc: 0.9785 - val_loss: 0.0453 - val_acc: 0.9888\n",
            "\n",
            "Epoch 00003: val_acc improved from 0.98670 to 0.98880, saving model to /opt/saved_weight_file.hdf5\n",
            "Epoch 4/20\n",
            "60000/60000 [==============================] - 31s 509us/step - loss: 0.0742 - acc: 0.9822 - val_loss: 0.0381 - val_acc: 0.9907\n",
            "\n",
            "Epoch 00004: val_acc improved from 0.98880 to 0.99070, saving model to /opt/saved_weight_file.hdf5\n",
            "Epoch 5/20\n",
            "60000/60000 [==============================] - 30s 507us/step - loss: 0.0582 - acc: 0.9857 - val_loss: 0.0381 - val_acc: 0.9891\n",
            "\n",
            "Epoch 00005: val_acc did not improve from 0.99070\n",
            "Epoch 6/20\n",
            "60000/60000 [==============================] - 30s 506us/step - loss: 0.0506 - acc: 0.9874 - val_loss: 0.0322 - val_acc: 0.9909\n",
            "\n",
            "Epoch 00006: val_acc improved from 0.99070 to 0.99090, saving model to /opt/saved_weight_file.hdf5\n",
            "Epoch 7/20\n",
            "60000/60000 [==============================] - 30s 504us/step - loss: 0.0451 - acc: 0.9882 - val_loss: 0.0300 - val_acc: 0.9906\n",
            "\n",
            "Epoch 00007: val_acc did not improve from 0.99090\n",
            "Epoch 8/20\n",
            "60000/60000 [==============================] - 30s 504us/step - loss: 0.0401 - acc: 0.9896 - val_loss: 0.0295 - val_acc: 0.9919\n",
            "\n",
            "Epoch 00008: val_acc improved from 0.99090 to 0.99190, saving model to /opt/saved_weight_file.hdf5\n",
            "Epoch 9/20\n",
            "60000/60000 [==============================] - 30s 497us/step - loss: 0.0381 - acc: 0.9899 - val_loss: 0.0287 - val_acc: 0.9918\n",
            "\n",
            "Epoch 00009: val_acc did not improve from 0.99190\n",
            "Epoch 10/20\n",
            "60000/60000 [==============================] - 30s 496us/step - loss: 0.0339 - acc: 0.9911 - val_loss: 0.0326 - val_acc: 0.9897\n",
            "\n",
            "Epoch 00010: val_acc did not improve from 0.99190\n",
            "Epoch 11/20\n",
            "60000/60000 [==============================] - 30s 496us/step - loss: 0.0309 - acc: 0.9914 - val_loss: 0.0214 - val_acc: 0.9938\n",
            "\n",
            "Epoch 00011: val_acc improved from 0.99190 to 0.99380, saving model to /opt/saved_weight_file.hdf5\n",
            "Epoch 12/20\n",
            "60000/60000 [==============================] - 30s 493us/step - loss: 0.0285 - acc: 0.9921 - val_loss: 0.0271 - val_acc: 0.9918\n",
            "\n",
            "Epoch 00012: val_acc did not improve from 0.99380\n",
            "Epoch 13/20\n",
            "60000/60000 [==============================] - 30s 503us/step - loss: 0.0266 - acc: 0.9925 - val_loss: 0.0226 - val_acc: 0.9926\n",
            "\n",
            "Epoch 00013: val_acc did not improve from 0.99380\n",
            "Epoch 14/20\n",
            "60000/60000 [==============================] - 29s 485us/step - loss: 0.0259 - acc: 0.9930 - val_loss: 0.0235 - val_acc: 0.9933\n",
            "\n",
            "Epoch 00014: val_acc did not improve from 0.99380\n",
            "Epoch 15/20\n",
            "60000/60000 [==============================] - 29s 485us/step - loss: 0.0253 - acc: 0.9930 - val_loss: 0.0211 - val_acc: 0.9938\n",
            "\n",
            "Epoch 00015: val_acc did not improve from 0.99380\n",
            "Epoch 16/20\n",
            "60000/60000 [==============================] - 29s 484us/step - loss: 0.0232 - acc: 0.9934 - val_loss: 0.0254 - val_acc: 0.9925\n",
            "\n",
            "Epoch 00016: val_acc did not improve from 0.99380\n",
            "Epoch 17/20\n",
            "60000/60000 [==============================] - 29s 483us/step - loss: 0.0226 - acc: 0.9936 - val_loss: 0.0199 - val_acc: 0.9942\n",
            "\n",
            "Epoch 00017: val_acc improved from 0.99380 to 0.99420, saving model to /opt/saved_weight_file.hdf5\n",
            "Epoch 18/20\n",
            "60000/60000 [==============================] - 29s 479us/step - loss: 0.0218 - acc: 0.9940 - val_loss: 0.0225 - val_acc: 0.9933\n",
            "\n",
            "Epoch 00018: val_acc did not improve from 0.99420\n",
            "Epoch 19/20\n",
            "60000/60000 [==============================] - 29s 478us/step - loss: 0.0209 - acc: 0.9939 - val_loss: 0.0276 - val_acc: 0.9917\n",
            "\n",
            "Epoch 00019: val_acc did not improve from 0.99420\n",
            "Epoch 20/20\n",
            "60000/60000 [==============================] - 28s 470us/step - loss: 0.0199 - acc: 0.9945 - val_loss: 0.0242 - val_acc: 0.9934\n",
            "\n",
            "Epoch 00020: val_acc did not improve from 0.99420\n"
          ],
          "name": "stdout"
        },
        {
          "output_type": "execute_result",
          "data": {
            "text/plain": [
              "<keras.callbacks.History at 0x7f7c1efd0908>"
            ]
          },
          "metadata": {
            "tags": []
          },
          "execution_count": 31
        }
      ]
    },
    {
      "cell_type": "code",
      "metadata": {
        "id": "AtsH-lLk-eLb",
        "colab_type": "code",
        "colab": {}
      },
      "source": [
        "model.load_weights(snapshot_filepath)\n",
        "score = model.evaluate(X_test, Y_test, verbose=0)"
      ],
      "execution_count": 0,
      "outputs": []
    },
    {
      "cell_type": "code",
      "metadata": {
        "id": "mkX8JMv79q9r",
        "colab_type": "code",
        "outputId": "5f5fde1d-19a4-47d8-e2ad-418a737c7b50",
        "colab": {
          "base_uri": "https://localhost:8080/",
          "height": 34
        }
      },
      "source": [
        "print(score)"
      ],
      "execution_count": 0,
      "outputs": [
        {
          "output_type": "stream",
          "text": [
            "[0.019863011645223014, 0.9942]\n"
          ],
          "name": "stdout"
        }
      ]
    },
    {
      "cell_type": "code",
      "metadata": {
        "id": "OCWoJkwE9suh",
        "colab_type": "code",
        "colab": {}
      },
      "source": [
        "y_pred = model.predict(X_test)"
      ],
      "execution_count": 0,
      "outputs": []
    },
    {
      "cell_type": "code",
      "metadata": {
        "id": "Ym7iCFBm9uBs",
        "colab_type": "code",
        "outputId": "d7c00113-fa00-4c41-d733-ccb74e5abcc9",
        "colab": {
          "base_uri": "https://localhost:8080/",
          "height": 509
        }
      },
      "source": [
        "print(y_pred[:9])\n",
        "print(y_test[:9])"
      ],
      "execution_count": 0,
      "outputs": [
        {
          "output_type": "stream",
          "text": [
            "[[1.54290792e-05 2.45368137e-05 1.27060673e-06 2.85225315e-06\n",
            "  5.89480760e-06 2.00941628e-07 4.09361655e-06 9.99939442e-01\n",
            "  2.11363158e-06 4.20970446e-06]\n",
            " [4.26954927e-07 6.67842755e-07 9.99978542e-01 2.43705722e-06\n",
            "  5.25813812e-06 3.06925500e-07 1.14921268e-05 1.79492730e-07\n",
            "  3.37714056e-07 4.00500312e-07]\n",
            " [5.41249676e-07 9.99940038e-01 2.64365940e-06 2.43183263e-06\n",
            "  6.80224321e-06 8.45200066e-06 1.74164904e-06 3.29055365e-05\n",
            "  1.15518253e-06 3.07659980e-06]\n",
            " [9.99871373e-01 4.55268173e-06 3.42056723e-07 1.04126084e-05\n",
            "  4.13212047e-06 4.95834854e-07 9.30625392e-05 9.27040037e-06\n",
            "  6.10627285e-06 3.27997299e-07]\n",
            " [2.71493286e-06 4.44199441e-06 8.27439726e-06 6.60784644e-05\n",
            "  9.99859333e-01 1.09410539e-05 1.15404173e-05 8.97916607e-07\n",
            "  2.93973771e-05 6.38771189e-06]\n",
            " [8.49743913e-07 9.99953985e-01 9.83754126e-06 2.59154649e-06\n",
            "  3.71090550e-06 3.25484234e-06 1.00153045e-06 2.26018328e-05\n",
            "  1.12725320e-06 1.13451802e-06]\n",
            " [1.13887222e-06 2.07686116e-05 4.39715359e-06 3.69636155e-07\n",
            "  9.99733508e-01 1.01978094e-06 1.58585721e-07 5.04305399e-06\n",
            "  2.16900706e-04 1.65413257e-05]\n",
            " [1.64987068e-06 2.54101928e-06 9.39268575e-05 8.96841539e-06\n",
            "  3.44688306e-04 1.38082705e-05 1.14471459e-06 3.24851527e-07\n",
            "  4.05829633e-06 9.99528885e-01]\n",
            " [1.19895931e-05 1.86330344e-05 1.49949187e-06 1.43576923e-04\n",
            "  5.34927567e-05 9.84651327e-01 1.48734776e-02 1.89272378e-05\n",
            "  3.14832287e-05 1.95492306e-04]]\n",
            "[7 2 1 0 4 1 4 9 5]\n"
          ],
          "name": "stdout"
        }
      ]
    },
    {
      "cell_type": "code",
      "metadata": {
        "id": "CT--y98_dr2T",
        "colab_type": "code",
        "colab": {}
      },
      "source": [
        "layer_dict = dict([(layer.name, layer) for layer in model.layers])"
      ],
      "execution_count": 0,
      "outputs": []
    },
    {
      "cell_type": "code",
      "metadata": {
        "id": "2GY4Upv4dsUR",
        "colab_type": "code",
        "outputId": "07528677-a3d9-4989-9c0c-dec151b245b1",
        "colab": {
          "base_uri": "https://localhost:8080/",
          "height": 326
        }
      },
      "source": [
        "import numpy as np\n",
        "from matplotlib import pyplot as plt\n",
        "from keras import backend as K\n",
        "%matplotlib inline\n",
        "# util function to convert a tensor into a valid image\n",
        "def deprocess_image(x):\n",
        "    # normalize tensor: center on 0., ensure std is 0.1\n",
        "    x -= x.mean()\n",
        "    x /= (x.std() + 1e-5)\n",
        "    x *= 0.1\n",
        "\n",
        "    # clip to [0, 1]\n",
        "    x += 0.5\n",
        "    x = np.clip(x, 0, 1)\n",
        "\n",
        "    # convert to RGB array\n",
        "    x *= 255\n",
        "    #x = x.transpose((1, 2, 0))\n",
        "    x = np.clip(x, 0, 255).astype('uint8')\n",
        "    return x\n",
        "\n",
        "def vis_img_in_filter(img = np.array(X_train[2]).reshape((1, 28, 28, 1)).astype(np.float64), \n",
        "                      layer_name = 'conv2d_14'):\n",
        "    layer_output = layer_dict[layer_name].output\n",
        "    img_ascs = list()\n",
        "    for filter_index in range(layer_output.shape[3]):\n",
        "        # build a loss function that maximizes the activation\n",
        "        # of the nth filter of the layer considered\n",
        "        loss = K.mean(layer_output[:, :, :, filter_index])\n",
        "\n",
        "        # compute the gradient of the input picture wrt this loss\n",
        "        grads = K.gradients(loss, model.input)[0]\n",
        "\n",
        "        # normalization trick: we normalize the gradient\n",
        "        grads /= (K.sqrt(K.mean(K.square(grads))) + 1e-5)\n",
        "\n",
        "        # this function returns the loss and grads given the input picture\n",
        "        iterate = K.function([model.input], [loss, grads])\n",
        "\n",
        "        # step size for gradient ascent\n",
        "        step = 5.\n",
        "\n",
        "        img_asc = np.array(img)\n",
        "        # run gradient ascent for 20 steps\n",
        "        for i in range(20):\n",
        "            loss_value, grads_value = iterate([img_asc])\n",
        "            img_asc += grads_value * step\n",
        "\n",
        "        img_asc = img_asc[0]\n",
        "        img_ascs.append(deprocess_image(img_asc).reshape((28, 28)))\n",
        "        \n",
        "    if layer_output.shape[3] >= 35:\n",
        "        plot_x, plot_y = 6, 6\n",
        "    elif layer_output.shape[3] >= 23:\n",
        "        plot_x, plot_y = 4, 6\n",
        "    elif layer_output.shape[3] >= 11:\n",
        "        plot_x, plot_y = 2, 6\n",
        "    else:\n",
        "        plot_x, plot_y = 1, 2\n",
        "    fig, ax = plt.subplots(plot_x, plot_y, figsize = (12, 12))\n",
        "    ax[0, 0].imshow(img.reshape((28, 28)), cmap = 'gray')\n",
        "    ax[0, 0].set_title('Input image')\n",
        "    fig.suptitle('Input image and %s filters' % (layer_name,))\n",
        "    fig.tight_layout(pad = 0.3, rect = [0, 0, 0.9, 0.9])\n",
        "    for (x, y) in [(i, j) for i in range(plot_x) for j in range(plot_y)]:\n",
        "        if x == 0 and y == 0:\n",
        "            continue\n",
        "        ax[x, y].imshow(img_ascs[x * plot_y + y - 1], cmap = 'gray')\n",
        "        ax[x, y].set_title('filter %d' % (x * plot_y + y - 1))\n",
        "\n",
        "vis_img_in_filter()"
      ],
      "execution_count": 0,
      "outputs": [
        {
          "output_type": "error",
          "ename": "KeyError",
          "evalue": "ignored",
          "traceback": [
            "\u001b[0;31m---------------------------------------------------------------------------\u001b[0m",
            "\u001b[0;31mKeyError\u001b[0m                                  Traceback (most recent call last)",
            "\u001b[0;32m<ipython-input-37-19229f66b51a>\u001b[0m in \u001b[0;36m<module>\u001b[0;34m()\u001b[0m\n\u001b[1;32m     69\u001b[0m         \u001b[0max\u001b[0m\u001b[0;34m[\u001b[0m\u001b[0mx\u001b[0m\u001b[0;34m,\u001b[0m \u001b[0my\u001b[0m\u001b[0;34m]\u001b[0m\u001b[0;34m.\u001b[0m\u001b[0mset_title\u001b[0m\u001b[0;34m(\u001b[0m\u001b[0;34m'filter %d'\u001b[0m \u001b[0;34m%\u001b[0m \u001b[0;34m(\u001b[0m\u001b[0mx\u001b[0m \u001b[0;34m*\u001b[0m \u001b[0mplot_y\u001b[0m \u001b[0;34m+\u001b[0m \u001b[0my\u001b[0m \u001b[0;34m-\u001b[0m \u001b[0;36m1\u001b[0m\u001b[0;34m)\u001b[0m\u001b[0;34m)\u001b[0m\u001b[0;34m\u001b[0m\u001b[0;34m\u001b[0m\u001b[0m\n\u001b[1;32m     70\u001b[0m \u001b[0;34m\u001b[0m\u001b[0m\n\u001b[0;32m---> 71\u001b[0;31m \u001b[0mvis_img_in_filter\u001b[0m\u001b[0;34m(\u001b[0m\u001b[0;34m)\u001b[0m\u001b[0;34m\u001b[0m\u001b[0;34m\u001b[0m\u001b[0m\n\u001b[0m",
            "\u001b[0;32m<ipython-input-37-19229f66b51a>\u001b[0m in \u001b[0;36mvis_img_in_filter\u001b[0;34m(img, layer_name)\u001b[0m\n\u001b[1;32m     22\u001b[0m def vis_img_in_filter(img = np.array(X_train[2]).reshape((1, 28, 28, 1)).astype(np.float64), \n\u001b[1;32m     23\u001b[0m                       layer_name = 'conv2d_14'):\n\u001b[0;32m---> 24\u001b[0;31m     \u001b[0mlayer_output\u001b[0m \u001b[0;34m=\u001b[0m \u001b[0mlayer_dict\u001b[0m\u001b[0;34m[\u001b[0m\u001b[0mlayer_name\u001b[0m\u001b[0;34m]\u001b[0m\u001b[0;34m.\u001b[0m\u001b[0moutput\u001b[0m\u001b[0;34m\u001b[0m\u001b[0;34m\u001b[0m\u001b[0m\n\u001b[0m\u001b[1;32m     25\u001b[0m     \u001b[0mimg_ascs\u001b[0m \u001b[0;34m=\u001b[0m \u001b[0mlist\u001b[0m\u001b[0;34m(\u001b[0m\u001b[0;34m)\u001b[0m\u001b[0;34m\u001b[0m\u001b[0;34m\u001b[0m\u001b[0m\n\u001b[1;32m     26\u001b[0m     \u001b[0;32mfor\u001b[0m \u001b[0mfilter_index\u001b[0m \u001b[0;32min\u001b[0m \u001b[0mrange\u001b[0m\u001b[0;34m(\u001b[0m\u001b[0mlayer_output\u001b[0m\u001b[0;34m.\u001b[0m\u001b[0mshape\u001b[0m\u001b[0;34m[\u001b[0m\u001b[0;36m3\u001b[0m\u001b[0;34m]\u001b[0m\u001b[0;34m)\u001b[0m\u001b[0;34m:\u001b[0m\u001b[0;34m\u001b[0m\u001b[0;34m\u001b[0m\u001b[0m\n",
            "\u001b[0;31mKeyError\u001b[0m: 'conv2d_14'"
          ]
        }
      ]
    },
    {
      "cell_type": "code",
      "metadata": {
        "id": "9tvptcn8dxvp",
        "colab_type": "code",
        "colab": {}
      },
      "source": [
        ""
      ],
      "execution_count": 0,
      "outputs": []
    }
  ]
}