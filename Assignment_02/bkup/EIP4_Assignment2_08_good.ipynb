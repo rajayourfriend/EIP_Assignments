{
  "nbformat": 4,
  "nbformat_minor": 0,
  "metadata": {
    "colab": {
      "name": "EIP4_Assignment2_08_good.ipynb",
      "provenance": [],
      "collapsed_sections": [],
      "include_colab_link": true
    },
    "kernelspec": {
      "name": "python3",
      "display_name": "Python 3"
    },
    "accelerator": "GPU"
  },
  "cells": [
    {
      "cell_type": "markdown",
      "metadata": {
        "id": "view-in-github",
        "colab_type": "text"
      },
      "source": [
        "<a href=\"https://colab.research.google.com/github/rajayourfriend/EIP_Assignments/blob/master/EIP4_Assignment2_08_good.ipynb\" target=\"_parent\"><img src=\"https://colab.research.google.com/assets/colab-badge.svg\" alt=\"Open In Colab\"/></a>"
      ]
    },
    {
      "cell_type": "markdown",
      "metadata": {
        "id": "aNyZv-Ec52ot",
        "colab_type": "text"
      },
      "source": [
        "# **Import Libraries and modules**"
      ]
    },
    {
      "cell_type": "code",
      "metadata": {
        "id": "3m3w1Cw49Zkt",
        "colab_type": "code",
        "outputId": "3cfb2697-f69d-481b-89a8-d46d0a551066",
        "colab": {
          "base_uri": "https://localhost:8080/",
          "height": 81
        }
      },
      "source": [
        "# https://keras.io/\n",
        "!pip install -q keras\n",
        "import keras"
      ],
      "execution_count": 0,
      "outputs": [
        {
          "output_type": "stream",
          "text": [
            "Using TensorFlow backend.\n"
          ],
          "name": "stderr"
        },
        {
          "output_type": "display_data",
          "data": {
            "text/html": [
              "<p style=\"color: red;\">\n",
              "The default version of TensorFlow in Colab will soon switch to TensorFlow 2.x.<br>\n",
              "We recommend you <a href=\"https://www.tensorflow.org/guide/migrate\" target=\"_blank\">upgrade</a> now \n",
              "or ensure your notebook will continue to use TensorFlow 1.x via the <code>%tensorflow_version 1.x</code> magic:\n",
              "<a href=\"https://colab.research.google.com/notebooks/tensorflow_version.ipynb\" target=\"_blank\">more info</a>.</p>\n"
            ],
            "text/plain": [
              "<IPython.core.display.HTML object>"
            ]
          },
          "metadata": {
            "tags": []
          }
        }
      ]
    },
    {
      "cell_type": "code",
      "metadata": {
        "id": "Eso6UHE080D4",
        "colab_type": "code",
        "colab": {}
      },
      "source": [
        "import numpy as np\n",
        "\n",
        "from keras.models import Sequential\n",
        "from keras.layers import Dense, Dropout, Activation, Flatten, Add\n",
        "from keras.layers import Convolution2D, MaxPooling2D, BatchNormalization\n",
        "from keras.utils import np_utils\n",
        "\n",
        "from keras.datasets import mnist"
      ],
      "execution_count": 0,
      "outputs": []
    },
    {
      "cell_type": "markdown",
      "metadata": {
        "id": "zByEi95J86RD",
        "colab_type": "text"
      },
      "source": [
        "### Load pre-shuffled MNIST data into train and test sets"
      ]
    },
    {
      "cell_type": "code",
      "metadata": {
        "id": "7eRM0QWN83PV",
        "colab_type": "code",
        "colab": {}
      },
      "source": [
        "(X_train, y_train), (X_test, y_test) = mnist.load_data()"
      ],
      "execution_count": 0,
      "outputs": []
    },
    {
      "cell_type": "code",
      "metadata": {
        "id": "4a4Be72j8-ZC",
        "colab_type": "code",
        "outputId": "6096dc00-8801-402b-d1d4-9a3032c2861f",
        "colab": {
          "base_uri": "https://localhost:8080/",
          "height": 300
        }
      },
      "source": [
        "print (X_train.shape)\n",
        "from matplotlib import pyplot as plt\n",
        "%matplotlib inline\n",
        "plt.imshow(X_train[0])"
      ],
      "execution_count": 0,
      "outputs": [
        {
          "output_type": "stream",
          "text": [
            "(60000, 28, 28)\n"
          ],
          "name": "stdout"
        },
        {
          "output_type": "execute_result",
          "data": {
            "text/plain": [
              "<matplotlib.image.AxesImage at 0x7f7b6d5e2668>"
            ]
          },
          "metadata": {
            "tags": []
          },
          "execution_count": 4
        },
        {
          "output_type": "display_data",
          "data": {
            "image/png": "[encoded data removed]",
            "text/plain": [
              "<Figure size 432x288 with 1 Axes>"
            ]
          },
          "metadata": {
            "tags": []
          }
        }
      ]
    },
    {
      "cell_type": "code",
      "metadata": {
        "id": "dkmprriw9AnZ",
        "colab_type": "code",
        "colab": {}
      },
      "source": [
        "X_train = X_train.reshape(X_train.shape[0], 28, 28,1)\n",
        "X_test = X_test.reshape(X_test.shape[0], 28, 28,1)"
      ],
      "execution_count": 0,
      "outputs": []
    },
    {
      "cell_type": "code",
      "metadata": {
        "id": "X2m4YS4E9CRh",
        "colab_type": "code",
        "colab": {}
      },
      "source": [
        "X_train = X_train.astype('float32')\n",
        "X_test = X_test.astype('float32')\n",
        "X_train /= 255\n",
        "X_test /= 255"
      ],
      "execution_count": 0,
      "outputs": []
    },
    {
      "cell_type": "code",
      "metadata": {
        "id": "0Mn0vAYD9DvB",
        "colab_type": "code",
        "outputId": "dd546c51-f8f3-4e7d-9330-31a8adaa6be0",
        "colab": {
          "base_uri": "https://localhost:8080/",
          "height": 35
        }
      },
      "source": [
        "y_train[:10]"
      ],
      "execution_count": 0,
      "outputs": [
        {
          "output_type": "execute_result",
          "data": {
            "text/plain": [
              "array([5, 0, 4, 1, 9, 2, 1, 3, 1, 4], dtype=uint8)"
            ]
          },
          "metadata": {
            "tags": []
          },
          "execution_count": 7
        }
      ]
    },
    {
      "cell_type": "code",
      "metadata": {
        "id": "ZG8JiXR39FHC",
        "colab_type": "code",
        "colab": {}
      },
      "source": [
        "# Convert 1-dimensional class arrays to 10-dimensional class matrices\n",
        "Y_train = np_utils.to_categorical(y_train, 10)\n",
        "Y_test = np_utils.to_categorical(y_test, 10)"
      ],
      "execution_count": 0,
      "outputs": []
    },
    {
      "cell_type": "code",
      "metadata": {
        "id": "fYlFRvKS9HMB",
        "colab_type": "code",
        "outputId": "91b17900-b3f9-48e5-e01a-832ebdab273c",
        "colab": {
          "base_uri": "https://localhost:8080/",
          "height": 191
        }
      },
      "source": [
        "Y_train[:10]\n"
      ],
      "execution_count": 0,
      "outputs": [
        {
          "output_type": "execute_result",
          "data": {
            "text/plain": [
              "array([[0., 0., 0., 0., 0., 1., 0., 0., 0., 0.],\n",
              "       [1., 0., 0., 0., 0., 0., 0., 0., 0., 0.],\n",
              "       [0., 0., 0., 0., 1., 0., 0., 0., 0., 0.],\n",
              "       [0., 1., 0., 0., 0., 0., 0., 0., 0., 0.],\n",
              "       [0., 0., 0., 0., 0., 0., 0., 0., 0., 1.],\n",
              "       [0., 0., 1., 0., 0., 0., 0., 0., 0., 0.],\n",
              "       [0., 1., 0., 0., 0., 0., 0., 0., 0., 0.],\n",
              "       [0., 0., 0., 1., 0., 0., 0., 0., 0., 0.],\n",
              "       [0., 1., 0., 0., 0., 0., 0., 0., 0., 0.],\n",
              "       [0., 0., 0., 0., 1., 0., 0., 0., 0., 0.]], dtype=float32)"
            ]
          },
          "metadata": {
            "tags": []
          },
          "execution_count": 9
        }
      ]
    },
    {
      "cell_type": "code",
      "metadata": {
        "id": "osKqT73Q9JJB",
        "colab_type": "code",
        "colab": {}
      },
      "source": [
        "from keras.layers import Activation\n",
        "model = Sequential()\n",
        "\n",
        "#Use GAP, BN, LRscheduler, dropout, callbacks\n",
        "model.add(Convolution2D(10, kernel_size=(3, 3), activation='relu', input_shape=(28,28,1), name=\"FirstConv\"))#26\n",
        "model.add(BatchNormalization())\n",
        "model.add(Dropout(0.1))\n",
        "model.add(Convolution2D(20, kernel_size=(3, 3), activation='relu'))#24\n",
        "model.add(BatchNormalization())\n",
        "model.add(Dropout(0.1))\n",
        "model.add(Convolution2D(30, kernel_size=(3, 3), activation='relu'))#22\n",
        "model.add(BatchNormalization())\n",
        "model.add(Dropout(0.01))\n",
        "\n",
        "model.add(MaxPooling2D(2, 2))#11\n",
        "model.add(Convolution2D(30, 1, activation='relu'))#11\n",
        "\n",
        "model.add(Convolution2D(40, kernel_size=(3, 3), activation='relu'))#9\n",
        "model.add(BatchNormalization())\n",
        "model.add(Dropout(0.01))\n",
        "model.add(Convolution2D(50, kernel_size=(3, 3), activation='relu'))#7\n",
        "model.add(BatchNormalization())\n",
        "model.add(Dropout(0.01))\n",
        "model.add(Convolution2D(60, kernel_size=(3, 3), activation='relu'))#5\n",
        "#model.add(Dropout(0.01))\n",
        "\n",
        "model.add(Convolution2D(10, 5))\n",
        "model.add(BatchNormalization())\n",
        "\n",
        "model.add(Flatten())\n",
        "model.add(Activation('softmax'))"
      ],
      "execution_count": 0,
      "outputs": []
    },
    {
      "cell_type": "code",
      "metadata": {
        "id": "TzdAYg1k9K7Z",
        "colab_type": "code",
        "outputId": "2223d5ef-3ad1-4580-b3e4-3b75af8bd7af",
        "colab": {
          "base_uri": "https://localhost:8080/",
          "height": 919
        }
      },
      "source": [
        "model.summary()"
      ],
      "execution_count": 0,
      "outputs": [
        {
          "output_type": "stream",
          "text": [
            "Model: \"sequential_2\"\n",
            "_________________________________________________________________\n",
            "Layer (type)                 Output Shape              Param #   \n",
            "=================================================================\n",
            "FirstConv (Conv2D)           (None, 26, 26, 10)        100       \n",
            "_________________________________________________________________\n",
            "batch_normalization_6 (Batch (None, 26, 26, 10)        40        \n",
            "_________________________________________________________________\n",
            "dropout_6 (Dropout)          (None, 26, 26, 10)        0         \n",
            "_________________________________________________________________\n",
            "conv2d_8 (Conv2D)            (None, 24, 24, 20)        1820      \n",
            "_________________________________________________________________\n",
            "batch_normalization_7 (Batch (None, 24, 24, 20)        80        \n",
            "_________________________________________________________________\n",
            "dropout_7 (Dropout)          (None, 24, 24, 20)        0         \n",
            "_________________________________________________________________\n",
            "conv2d_9 (Conv2D)            (None, 22, 22, 30)        5430      \n",
            "_________________________________________________________________\n",
            "batch_normalization_8 (Batch (None, 22, 22, 30)        120       \n",
            "_________________________________________________________________\n",
            "dropout_8 (Dropout)          (None, 22, 22, 30)        0         \n",
            "_________________________________________________________________\n",
            "max_pooling2d_2 (MaxPooling2 (None, 11, 11, 30)        0         \n",
            "_________________________________________________________________\n",
            "conv2d_10 (Conv2D)           (None, 11, 11, 30)        930       \n",
            "_________________________________________________________________\n",
            "conv2d_11 (Conv2D)           (None, 9, 9, 40)          10840     \n",
            "_________________________________________________________________\n",
            "batch_normalization_9 (Batch (None, 9, 9, 40)          160       \n",
            "_________________________________________________________________\n",
            "dropout_9 (Dropout)          (None, 9, 9, 40)          0         \n",
            "_________________________________________________________________\n",
            "conv2d_12 (Conv2D)           (None, 7, 7, 50)          18050     \n",
            "_________________________________________________________________\n",
            "batch_normalization_10 (Batc (None, 7, 7, 50)          200       \n",
            "_________________________________________________________________\n",
            "dropout_10 (Dropout)         (None, 7, 7, 50)          0         \n",
            "_________________________________________________________________\n",
            "conv2d_13 (Conv2D)           (None, 5, 5, 60)          27060     \n",
            "_________________________________________________________________\n",
            "conv2d_14 (Conv2D)           (None, 1, 1, 10)          15010     \n",
            "_________________________________________________________________\n",
            "batch_normalization_11 (Batc (None, 1, 1, 10)          40        \n",
            "_________________________________________________________________\n",
            "flatten_2 (Flatten)          (None, 10)                0         \n",
            "_________________________________________________________________\n",
            "activation_2 (Activation)    (None, 10)                0         \n",
            "=================================================================\n",
            "Total params: 79,880\n",
            "Trainable params: 79,560\n",
            "Non-trainable params: 320\n",
            "_________________________________________________________________\n"
          ],
          "name": "stdout"
        }
      ]
    },
    {
      "cell_type": "code",
      "metadata": {
        "id": "Zp6SuGrL9M3h",
        "colab_type": "code",
        "colab": {}
      },
      "source": [
        "model.compile(loss='categorical_crossentropy',\n",
        "             optimizer='adam',\n",
        "             metrics=['accuracy'])"
      ],
      "execution_count": 0,
      "outputs": []
    },
    {
      "cell_type": "code",
      "metadata": {
        "id": "4xWoKhPY9Of5",
        "colab_type": "code",
        "outputId": "3f23cda4-1d29-4edf-a4e1-c350ecac9aaf",
        "colab": {
          "base_uri": "https://localhost:8080/",
          "height": 1000
        }
      },
      "source": [
        "\n",
        "snapshot_filepath = \"/opt/saved_weight_file.hdf5\"\n",
        "cp_callback = keras.callbacks.ModelCheckpoint(snapshot_filepath, monitor='val_acc', verbose=1, save_best_only=True, mode='max')\n",
        "CALLBACKS = [cp_callback]\n",
        "\n",
        "model.fit(X_train, Y_train, batch_size=32, nb_epoch=20, verbose=1, validation_data=(X_test, Y_test), callbacks = CALLBACKS)\n"
      ],
      "execution_count": 0,
      "outputs": [
        {
          "output_type": "stream",
          "text": [
            "/usr/local/lib/python3.6/dist-packages/ipykernel_launcher.py:6: UserWarning: The `nb_epoch` argument in `fit` has been renamed `epochs`.\n",
            "  \n"
          ],
          "name": "stderr"
        },
        {
          "output_type": "stream",
          "text": [
            "Train on 60000 samples, validate on 10000 samples\n",
            "Epoch 1/20\n",
            "60000/60000 [==============================] - 21s 351us/step - loss: 0.3168 - acc: 0.9526 - val_loss: 0.0803 - val_acc: 0.9897\n",
            "\n",
            "Epoch 00001: val_acc improved from -inf to 0.98970, saving model to /opt/saved_weight_file.hdf5\n",
            "Epoch 2/20\n",
            "60000/60000 [==============================] - 20s 327us/step - loss: 0.1166 - acc: 0.9792 - val_loss: 0.0475 - val_acc: 0.9913\n",
            "\n",
            "Epoch 00002: val_acc improved from 0.98970 to 0.99130, saving model to /opt/saved_weight_file.hdf5\n",
            "Epoch 3/20\n",
            "60000/60000 [==============================] - 19s 325us/step - loss: 0.0701 - acc: 0.9870 - val_loss: 0.0306 - val_acc: 0.9928\n",
            "\n",
            "Epoch 00003: val_acc improved from 0.99130 to 0.99280, saving model to /opt/saved_weight_file.hdf5\n",
            "Epoch 4/20\n",
            "60000/60000 [==============================] - 20s 327us/step - loss: 0.0505 - acc: 0.9895 - val_loss: 0.0298 - val_acc: 0.9923\n",
            "\n",
            "Epoch 00004: val_acc did not improve from 0.99280\n",
            "Epoch 5/20\n",
            "60000/60000 [==============================] - 20s 325us/step - loss: 0.0396 - acc: 0.9912 - val_loss: 0.0260 - val_acc: 0.9925\n",
            "\n",
            "Epoch 00005: val_acc did not improve from 0.99280\n",
            "Epoch 6/20\n",
            "60000/60000 [==============================] - 19s 321us/step - loss: 0.0323 - acc: 0.9926 - val_loss: 0.0266 - val_acc: 0.9932\n",
            "\n",
            "Epoch 00006: val_acc improved from 0.99280 to 0.99320, saving model to /opt/saved_weight_file.hdf5\n",
            "Epoch 7/20\n",
            "60000/60000 [==============================] - 19s 320us/step - loss: 0.0265 - acc: 0.9937 - val_loss: 0.0254 - val_acc: 0.9925\n",
            "\n",
            "Epoch 00007: val_acc did not improve from 0.99320\n",
            "Epoch 8/20\n",
            "60000/60000 [==============================] - 19s 324us/step - loss: 0.0217 - acc: 0.9947 - val_loss: 0.0249 - val_acc: 0.9927\n",
            "\n",
            "Epoch 00008: val_acc did not improve from 0.99320\n",
            "Epoch 9/20\n",
            "60000/60000 [==============================] - 19s 320us/step - loss: 0.0192 - acc: 0.9953 - val_loss: 0.0208 - val_acc: 0.9934\n",
            "\n",
            "Epoch 00009: val_acc improved from 0.99320 to 0.99340, saving model to /opt/saved_weight_file.hdf5\n",
            "Epoch 10/20\n",
            "60000/60000 [==============================] - 19s 319us/step - loss: 0.0179 - acc: 0.9958 - val_loss: 0.0201 - val_acc: 0.9937\n",
            "\n",
            "Epoch 00010: val_acc improved from 0.99340 to 0.99370, saving model to /opt/saved_weight_file.hdf5\n",
            "Epoch 11/20\n",
            "60000/60000 [==============================] - 20s 329us/step - loss: 0.0140 - acc: 0.9962 - val_loss: 0.0262 - val_acc: 0.9926\n",
            "\n",
            "Epoch 00011: val_acc did not improve from 0.99370\n",
            "Epoch 12/20\n",
            "60000/60000 [==============================] - 19s 321us/step - loss: 0.0139 - acc: 0.9968 - val_loss: 0.0218 - val_acc: 0.9929\n",
            "\n",
            "Epoch 00012: val_acc did not improve from 0.99370\n",
            "Epoch 13/20\n",
            "60000/60000 [==============================] - 19s 322us/step - loss: 0.0115 - acc: 0.9970 - val_loss: 0.0220 - val_acc: 0.9936\n",
            "\n",
            "Epoch 00013: val_acc did not improve from 0.99370\n",
            "Epoch 14/20\n",
            "60000/60000 [==============================] - 19s 320us/step - loss: 0.0114 - acc: 0.9970 - val_loss: 0.0212 - val_acc: 0.9935\n",
            "\n",
            "Epoch 00014: val_acc did not improve from 0.99370\n",
            "Epoch 15/20\n",
            "60000/60000 [==============================] - 19s 317us/step - loss: 0.0091 - acc: 0.9977 - val_loss: 0.0193 - val_acc: 0.9941\n",
            "\n",
            "Epoch 00015: val_acc improved from 0.99370 to 0.99410, saving model to /opt/saved_weight_file.hdf5\n",
            "Epoch 16/20\n",
            "60000/60000 [==============================] - 19s 320us/step - loss: 0.0103 - acc: 0.9973 - val_loss: 0.0207 - val_acc: 0.9940\n",
            "\n",
            "Epoch 00016: val_acc did not improve from 0.99410\n",
            "Epoch 17/20\n",
            "60000/60000 [==============================] - 20s 326us/step - loss: 0.0082 - acc: 0.9978 - val_loss: 0.0207 - val_acc: 0.9941\n",
            "\n",
            "Epoch 00017: val_acc did not improve from 0.99410\n",
            "Epoch 18/20\n",
            "60000/60000 [==============================] - 19s 321us/step - loss: 0.0078 - acc: 0.9980 - val_loss: 0.0186 - val_acc: 0.9952\n",
            "\n",
            "Epoch 00018: val_acc improved from 0.99410 to 0.99520, saving model to /opt/saved_weight_file.hdf5\n",
            "Epoch 19/20\n",
            "60000/60000 [==============================] - 19s 320us/step - loss: 0.0070 - acc: 0.9982 - val_loss: 0.0189 - val_acc: 0.9945\n",
            "\n",
            "Epoch 00019: val_acc did not improve from 0.99520\n",
            "Epoch 20/20\n",
            "60000/60000 [==============================] - 19s 320us/step - loss: 0.0062 - acc: 0.9983 - val_loss: 0.0217 - val_acc: 0.9946\n",
            "\n",
            "Epoch 00020: val_acc did not improve from 0.99520\n"
          ],
          "name": "stdout"
        },
        {
          "output_type": "execute_result",
          "data": {
            "text/plain": [
              "<keras.callbacks.History at 0x7f7acf64a860>"
            ]
          },
          "metadata": {
            "tags": []
          },
          "execution_count": 23
        }
      ]
    },
    {
      "cell_type": "code",
      "metadata": {
        "id": "AtsH-lLk-eLb",
        "colab_type": "code",
        "colab": {}
      },
      "source": [
        "model.load_weights(snapshot_filepath)\n",
        "score = model.evaluate(X_test, Y_test, verbose=0)"
      ],
      "execution_count": 0,
      "outputs": []
    },
    {
      "cell_type": "code",
      "metadata": {
        "id": "mkX8JMv79q9r",
        "colab_type": "code",
        "outputId": "02c7fbcc-2818-44fe-b833-d12a95555d80",
        "colab": {
          "base_uri": "https://localhost:8080/",
          "height": 35
        }
      },
      "source": [
        "print(score)"
      ],
      "execution_count": 0,
      "outputs": [
        {
          "output_type": "stream",
          "text": [
            "[0.01862877900302992, 0.9952]\n"
          ],
          "name": "stdout"
        }
      ]
    },
    {
      "cell_type": "code",
      "metadata": {
        "id": "OCWoJkwE9suh",
        "colab_type": "code",
        "colab": {}
      },
      "source": [
        "y_pred = model.predict(X_test)"
      ],
      "execution_count": 0,
      "outputs": []
    },
    {
      "cell_type": "code",
      "metadata": {
        "id": "Ym7iCFBm9uBs",
        "colab_type": "code",
        "outputId": "cbf5fea6-a0cd-4cf5-cf07-8d18edec7da7",
        "colab": {
          "base_uri": "https://localhost:8080/",
          "height": 503
        }
      },
      "source": [
        "print(y_pred[:9])\n",
        "print(y_test[:9])"
      ],
      "execution_count": 0,
      "outputs": [
        {
          "output_type": "stream",
          "text": [
            "[[5.45662317e-07 2.57482100e-07 1.66909985e-07 2.74977396e-07\n",
            "  4.32914220e-07 1.36480253e-07 3.67409541e-07 9.99997139e-01\n",
            "  2.95951395e-07 3.76141770e-07]\n",
            " [8.08811009e-08 1.15118635e-08 9.99973774e-01 1.74799588e-08\n",
            "  2.52544601e-06 4.61533006e-07 4.96285611e-06 6.35138917e-07\n",
            "  1.04402154e-07 1.74652741e-05]\n",
            " [1.62998890e-06 9.99960303e-01 2.96980630e-07 4.98723330e-06\n",
            "  7.14719704e-07 2.74974100e-05 9.76880756e-07 1.88350066e-06\n",
            "  4.70495905e-07 1.14758870e-06]\n",
            " [9.99978185e-01 1.78045832e-06 2.97591555e-07 2.99029216e-06\n",
            "  5.53960376e-07 6.03631520e-07 3.03726119e-06 4.01906675e-07\n",
            "  2.05307424e-06 1.00002708e-05]\n",
            " [2.09828431e-05 7.37502614e-06 4.17071033e-06 5.38551831e-05\n",
            "  9.99886870e-01 1.67968676e-06 1.44583555e-05 1.15631588e-06\n",
            "  8.99011957e-06 3.68736892e-07]\n",
            " [1.23784048e-06 9.99963880e-01 2.26622532e-07 3.91329877e-06\n",
            "  1.20796608e-06 2.45589272e-05 5.52156052e-07 2.85396391e-06\n",
            "  1.14534498e-06 4.53023148e-07]\n",
            " [2.15891774e-07 6.78580932e-07 3.15206847e-08 1.47558538e-07\n",
            "  9.99997377e-01 3.55885959e-07 4.41125394e-07 7.27186986e-08\n",
            "  6.83652047e-07 1.10165974e-08]\n",
            " [1.60049012e-06 1.17976679e-05 4.67128157e-05 3.67037956e-07\n",
            "  1.12542457e-05 1.04344304e-06 1.50634287e-06 3.80369471e-07\n",
            "  7.95905578e-07 9.99924541e-01]\n",
            " [1.08434406e-05 7.84348572e-07 7.83225551e-06 2.99126100e-07\n",
            "  3.03770183e-04 9.97110069e-01 1.05016422e-03 1.99486058e-05\n",
            "  1.40672375e-03 8.95165940e-05]]\n",
            "[7 2 1 0 4 1 4 9 5]\n"
          ],
          "name": "stdout"
        }
      ]
    },
    {
      "cell_type": "code",
      "metadata": {
        "id": "CT--y98_dr2T",
        "colab_type": "code",
        "colab": {}
      },
      "source": [
        "layer_dict = dict([(layer.name, layer) for layer in model.layers])"
      ],
      "execution_count": 0,
      "outputs": []
    },
    {
      "cell_type": "code",
      "metadata": {
        "id": "2GY4Upv4dsUR",
        "colab_type": "code",
        "outputId": "3cc41b4e-79b8-4e9c-e978-c1656ab781bc",
        "colab": {
          "base_uri": "https://localhost:8080/",
          "height": 1000
        }
      },
      "source": [
        "import numpy as np\n",
        "from matplotlib import pyplot as plt\n",
        "from keras import backend as K\n",
        "%matplotlib inline\n",
        "# util function to convert a tensor into a valid image\n",
        "def deprocess_image(x):\n",
        "    # normalize tensor: center on 0., ensure std is 0.1\n",
        "    x -= x.mean()\n",
        "    x /= (x.std() + 1e-5)\n",
        "    x *= 0.1\n",
        "\n",
        "    # clip to [0, 1]\n",
        "    x += 0.5\n",
        "    x = np.clip(x, 0, 1)\n",
        "\n",
        "    # convert to RGB array\n",
        "    x *= 255\n",
        "    #x = x.transpose((1, 2, 0))\n",
        "    x = np.clip(x, 0, 255).astype('uint8')\n",
        "    return x\n",
        "\n",
        "def vis_img_in_filter(img = np.array(X_train[2]).reshape((1, 28, 28, 1)).astype(np.float64), \n",
        "                      layer_name = 'conv2d_14'):\n",
        "    layer_output = layer_dict[layer_name].output\n",
        "    img_ascs = list()\n",
        "    for filter_index in range(layer_output.shape[3]):\n",
        "        # build a loss function that maximizes the activation\n",
        "        # of the nth filter of the layer considered\n",
        "        loss = K.mean(layer_output[:, :, :, filter_index])\n",
        "\n",
        "        # compute the gradient of the input picture wrt this loss\n",
        "        grads = K.gradients(loss, model.input)[0]\n",
        "\n",
        "        # normalization trick: we normalize the gradient\n",
        "        grads /= (K.sqrt(K.mean(K.square(grads))) + 1e-5)\n",
        "\n",
        "        # this function returns the loss and grads given the input picture\n",
        "        iterate = K.function([model.input], [loss, grads])\n",
        "\n",
        "        # step size for gradient ascent\n",
        "        step = 5.\n",
        "\n",
        "        img_asc = np.array(img)\n",
        "        # run gradient ascent for 20 steps\n",
        "        for i in range(20):\n",
        "            loss_value, grads_value = iterate([img_asc])\n",
        "            img_asc += grads_value * step\n",
        "\n",
        "        img_asc = img_asc[0]\n",
        "        img_ascs.append(deprocess_image(img_asc).reshape((28, 28)))\n",
        "        \n",
        "    if layer_output.shape[3] >= 35:\n",
        "        plot_x, plot_y = 6, 6\n",
        "    elif layer_output.shape[3] >= 23:\n",
        "        plot_x, plot_y = 4, 6\n",
        "    elif layer_output.shape[3] >= 11:\n",
        "        plot_x, plot_y = 2, 6\n",
        "    else:\n",
        "        plot_x, plot_y = 1, 2\n",
        "    fig, ax = plt.subplots(plot_x, plot_y, figsize = (12, 12))\n",
        "    ax[0, 0].imshow(img.reshape((28, 28)), cmap = 'gray')\n",
        "    ax[0, 0].set_title('Input image')\n",
        "    fig.suptitle('Input image and %s filters' % (layer_name,))\n",
        "    fig.tight_layout(pad = 0.3, rect = [0, 0, 0.9, 0.9])\n",
        "    for (x, y) in [(i, j) for i in range(plot_x) for j in range(plot_y)]:\n",
        "        if x == 0 and y == 0:\n",
        "            continue\n",
        "        ax[x, y].imshow(img_ascs[x * plot_y + y - 1], cmap = 'gray')\n",
        "        ax[x, y].set_title('filter %d' % (x * plot_y + y - 1))\n",
        "\n",
        "vis_img_in_filter()"
      ],
      "execution_count": 0,
      "outputs": [
        {
          "output_type": "error",
          "ename": "IndexError",
          "evalue": "ignored",
          "traceback": [
            "\u001b[0;31m---------------------------------------------------------------------------\u001b[0m",
            "\u001b[0;31mIndexError\u001b[0m                                Traceback (most recent call last)",
            "\u001b[0;32m<ipython-input-29-19229f66b51a>\u001b[0m in \u001b[0;36m<module>\u001b[0;34m()\u001b[0m\n\u001b[1;32m     69\u001b[0m         \u001b[0max\u001b[0m\u001b[0;34m[\u001b[0m\u001b[0mx\u001b[0m\u001b[0;34m,\u001b[0m \u001b[0my\u001b[0m\u001b[0;34m]\u001b[0m\u001b[0;34m.\u001b[0m\u001b[0mset_title\u001b[0m\u001b[0;34m(\u001b[0m\u001b[0;34m'filter %d'\u001b[0m \u001b[0;34m%\u001b[0m \u001b[0;34m(\u001b[0m\u001b[0mx\u001b[0m \u001b[0;34m*\u001b[0m \u001b[0mplot_y\u001b[0m \u001b[0;34m+\u001b[0m \u001b[0my\u001b[0m \u001b[0;34m-\u001b[0m \u001b[0;36m1\u001b[0m\u001b[0;34m)\u001b[0m\u001b[0;34m)\u001b[0m\u001b[0;34m\u001b[0m\u001b[0;34m\u001b[0m\u001b[0m\n\u001b[1;32m     70\u001b[0m \u001b[0;34m\u001b[0m\u001b[0m\n\u001b[0;32m---> 71\u001b[0;31m \u001b[0mvis_img_in_filter\u001b[0m\u001b[0;34m(\u001b[0m\u001b[0;34m)\u001b[0m\u001b[0;34m\u001b[0m\u001b[0;34m\u001b[0m\u001b[0m\n\u001b[0m",
            "\u001b[0;32m<ipython-input-29-19229f66b51a>\u001b[0m in \u001b[0;36mvis_img_in_filter\u001b[0;34m(img, layer_name)\u001b[0m\n\u001b[1;32m     59\u001b[0m         \u001b[0mplot_x\u001b[0m\u001b[0;34m,\u001b[0m \u001b[0mplot_y\u001b[0m \u001b[0;34m=\u001b[0m \u001b[0;36m1\u001b[0m\u001b[0;34m,\u001b[0m \u001b[0;36m2\u001b[0m\u001b[0;34m\u001b[0m\u001b[0;34m\u001b[0m\u001b[0m\n\u001b[1;32m     60\u001b[0m     \u001b[0mfig\u001b[0m\u001b[0;34m,\u001b[0m \u001b[0max\u001b[0m \u001b[0;34m=\u001b[0m \u001b[0mplt\u001b[0m\u001b[0;34m.\u001b[0m\u001b[0msubplots\u001b[0m\u001b[0;34m(\u001b[0m\u001b[0mplot_x\u001b[0m\u001b[0;34m,\u001b[0m \u001b[0mplot_y\u001b[0m\u001b[0;34m,\u001b[0m \u001b[0mfigsize\u001b[0m \u001b[0;34m=\u001b[0m \u001b[0;34m(\u001b[0m\u001b[0;36m12\u001b[0m\u001b[0;34m,\u001b[0m \u001b[0;36m12\u001b[0m\u001b[0;34m)\u001b[0m\u001b[0;34m)\u001b[0m\u001b[0;34m\u001b[0m\u001b[0;34m\u001b[0m\u001b[0m\n\u001b[0;32m---> 61\u001b[0;31m     \u001b[0max\u001b[0m\u001b[0;34m[\u001b[0m\u001b[0;36m0\u001b[0m\u001b[0;34m,\u001b[0m \u001b[0;36m0\u001b[0m\u001b[0;34m]\u001b[0m\u001b[0;34m.\u001b[0m\u001b[0mimshow\u001b[0m\u001b[0;34m(\u001b[0m\u001b[0mimg\u001b[0m\u001b[0;34m.\u001b[0m\u001b[0mreshape\u001b[0m\u001b[0;34m(\u001b[0m\u001b[0;34m(\u001b[0m\u001b[0;36m28\u001b[0m\u001b[0;34m,\u001b[0m \u001b[0;36m28\u001b[0m\u001b[0;34m)\u001b[0m\u001b[0;34m)\u001b[0m\u001b[0;34m,\u001b[0m \u001b[0mcmap\u001b[0m \u001b[0;34m=\u001b[0m \u001b[0;34m'gray'\u001b[0m\u001b[0;34m)\u001b[0m\u001b[0;34m\u001b[0m\u001b[0;34m\u001b[0m\u001b[0m\n\u001b[0m\u001b[1;32m     62\u001b[0m     \u001b[0max\u001b[0m\u001b[0;34m[\u001b[0m\u001b[0;36m0\u001b[0m\u001b[0;34m,\u001b[0m \u001b[0;36m0\u001b[0m\u001b[0;34m]\u001b[0m\u001b[0;34m.\u001b[0m\u001b[0mset_title\u001b[0m\u001b[0;34m(\u001b[0m\u001b[0;34m'Input image'\u001b[0m\u001b[0;34m)\u001b[0m\u001b[0;34m\u001b[0m\u001b[0;34m\u001b[0m\u001b[0m\n\u001b[1;32m     63\u001b[0m     \u001b[0mfig\u001b[0m\u001b[0;34m.\u001b[0m\u001b[0msuptitle\u001b[0m\u001b[0;34m(\u001b[0m\u001b[0;34m'Input image and %s filters'\u001b[0m \u001b[0;34m%\u001b[0m \u001b[0;34m(\u001b[0m\u001b[0mlayer_name\u001b[0m\u001b[0;34m,\u001b[0m\u001b[0;34m)\u001b[0m\u001b[0;34m)\u001b[0m\u001b[0;34m\u001b[0m\u001b[0;34m\u001b[0m\u001b[0m\n",
            "\u001b[0;31mIndexError\u001b[0m: too many indices for array"
          ]
        },
        {
          "output_type": "display_data",
          "data": {
            "image/png": "[encoded data removed]",
            "text/plain": [
              "<Figure size 864x864 with 2 Axes>"
            ]
          },
          "metadata": {
            "tags": []
          }
        }
      ]
    },
    {
      "cell_type": "code",
      "metadata": {
        "id": "9tvptcn8dxvp",
        "colab_type": "code",
        "colab": {}
      },
      "source": [
        ""
      ],
      "execution_count": 0,
      "outputs": []
    }
  ]
}
